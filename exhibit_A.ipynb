{
  "nbformat": 4,
  "nbformat_minor": 0,
  "metadata": {
    "colab": {
      "provenance": [],
      "authorship_tag": "ABX9TyP/LxM+cmV2BGWYxK+0ojCS",
      "include_colab_link": true
    },
    "kernelspec": {
      "name": "python3",
      "display_name": "Python 3"
    },
    "language_info": {
      "name": "python"
    }
  },
  "cells": [
    {
      "cell_type": "markdown",
      "metadata": {
        "id": "view-in-github",
        "colab_type": "text"
      },
      "source": [
        "<a href=\"https://colab.research.google.com/github/ZackAkil/i-promise-to-maybe-write-tests/blob/main/exhibit_A.ipynb\" target=\"_parent\"><img src=\"https://colab.research.google.com/assets/colab-badge.svg\" alt=\"Open In Colab\"/></a>"
      ]
    },
    {
      "cell_type": "markdown",
      "source": [
        "Step 1, make modules in cells using %%writefile"
      ],
      "metadata": {
        "id": "R8qJZtrcsieZ"
      }
    },
    {
      "cell_type": "code",
      "execution_count": 1,
      "metadata": {
        "colab": {
          "base_uri": "https://localhost:8080/"
        },
        "id": "O3jRVfhusayO",
        "outputId": "5362e29e-f990-4427-f765-f90c86676bfc"
      },
      "outputs": [
        {
          "output_type": "stream",
          "name": "stdout",
          "text": [
            "Writing something.py\n"
          ]
        }
      ],
      "source": [
        "%%writefile something.py\n",
        "\n",
        "def something_fun(x):\n",
        "\n",
        "    if type(x) is str:\n",
        "      return str(int(x)+2)\n",
        "\n",
        "    if x is None:\n",
        "      return None\n",
        "    return x + 2"
      ]
    },
    {
      "cell_type": "markdown",
      "source": [
        "Step 2, write tests in a cell in the pytest format, and save to test_.py files with %%writefile"
      ],
      "metadata": {
        "id": "TrJPH-dFslq5"
      }
    },
    {
      "cell_type": "code",
      "source": [
        "%%writefile test_main.py\n",
        "\n",
        "import something\n",
        "\n",
        "def test_answer():\n",
        "    assert something.something_fun(3) == 5\n",
        "\n",
        "def test_answer2():\n",
        "    assert something.something_fun(9) == 11\n",
        "\n",
        "def test_answer3():\n",
        "    assert something.something_fun(-2) == 0\n",
        "\n",
        "def test_answer4():\n",
        "    assert something.something_fun(None) == None\n",
        "\n",
        "def test_answer_str():\n",
        "    assert something.something_fun('7') == '9'"
      ],
      "metadata": {
        "colab": {
          "base_uri": "https://localhost:8080/"
        },
        "id": "PtRwQ-MlskHf",
        "outputId": "2a3a99c7-2cf1-4587-d1ee-4ea3f700b43c"
      },
      "execution_count": 2,
      "outputs": [
        {
          "output_type": "stream",
          "name": "stdout",
          "text": [
            "Writing test_main.py\n"
          ]
        }
      ]
    },
    {
      "cell_type": "markdown",
      "source": [
        "Step 4, Run tests using pytest (again running in a cell)"
      ],
      "metadata": {
        "id": "scwsl0iSsnyQ"
      }
    },
    {
      "cell_type": "code",
      "source": [
        "!pytest"
      ],
      "metadata": {
        "colab": {
          "base_uri": "https://localhost:8080/"
        },
        "id": "JSdLSu8GsnQH",
        "outputId": "d3d9928a-fd07-4be8-de3c-1f7c51528e4c"
      },
      "execution_count": 3,
      "outputs": [
        {
          "output_type": "stream",
          "name": "stdout",
          "text": [
            "\u001b[1m======================================= test session starts ========================================\u001b[0m\n",
            "platform linux -- Python 3.10.12, pytest-7.4.2, pluggy-1.3.0\n",
            "rootdir: /content\n",
            "plugins: anyio-3.7.1\n",
            "\u001b[1mcollecting ... \u001b[0m\u001b[1m\rcollected 5 items                                                                                  \u001b[0m\n",
            "\n",
            "test_main.py \u001b[32m.\u001b[0m\u001b[32m.\u001b[0m\u001b[32m.\u001b[0m\u001b[32m.\u001b[0m\u001b[32m.\u001b[0m\u001b[32m                                                                           [100%]\u001b[0m\n",
            "\n",
            "\u001b[32m======================================== \u001b[32m\u001b[1m5 passed\u001b[0m\u001b[32m in 0.04s\u001b[0m\u001b[32m =========================================\u001b[0m\n"
          ]
        }
      ]
    },
    {
      "cell_type": "markdown",
      "source": [
        "Step 5, Load the module using importlib.reload to allow for interactive devlopment without restarting notebook"
      ],
      "metadata": {
        "id": "w8zDY6-7sr7n"
      }
    },
    {
      "cell_type": "code",
      "source": [
        "import something\n",
        "\n",
        "from importlib import reload\n",
        "reload(something)\n",
        "\n",
        "print(something.something_fun(7))\n",
        "\n",
        "print(something.something_fun('-2'))"
      ],
      "metadata": {
        "colab": {
          "base_uri": "https://localhost:8080/"
        },
        "id": "6kI5LATPspxH",
        "outputId": "614ef390-6c0a-451d-8fc9-c0d6da0ab2c6"
      },
      "execution_count": 4,
      "outputs": [
        {
          "output_type": "stream",
          "name": "stdout",
          "text": [
            "9\n",
            "0\n"
          ]
        }
      ]
    }
  ]
}